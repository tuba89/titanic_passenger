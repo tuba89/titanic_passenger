{
  "nbformat": 4,
  "nbformat_minor": 0,
  "metadata": {
    "colab": {
      "name": "titanic-passengers.ipynb",
      "provenance": [],
      "collapsed_sections": [],
      "authorship_tag": "ABX9TyOt34J1O+9tqUp/yoTCh83N",
      "include_colab_link": true
    },
    "kernelspec": {
      "name": "python3",
      "display_name": "Python 3"
    }
  },
  "cells": [
    {
      "cell_type": "markdown",
      "metadata": {
        "id": "view-in-github",
        "colab_type": "text"
      },
      "source": [
        "<a href=\"https://colab.research.google.com/github/tuba89/titanic_passenger/blob/main/titanic_passengers.ipynb\" target=\"_parent\"><img src=\"https://colab.research.google.com/assets/colab-badge.svg\" alt=\"Open In Colab\"/></a>"
      ]
    },
    {
      "cell_type": "code",
      "metadata": {
        "id": "MVr8lv7DGUmy"
      },
      "source": [
        "# libraries\r\n",
        "import math\r\n",
        "import numpy as np\r\n",
        "import pandas as pd\r\n",
        "import matplotlib.pyplot as plt\r\n",
        "import seaborn as sns\r\n"
      ],
      "execution_count": 411,
      "outputs": []
    },
    {
      "cell_type": "code",
      "metadata": {
        "colab": {
          "base_uri": "https://localhost:8080/",
          "height": 355
        },
        "id": "6H5kT-MGGilx",
        "outputId": "91e48750-3359-4629-edda-5d5e7c88c741"
      },
      "source": [
        "# load titanic DataSet\r\n",
        "titanic_df = pd.read_csv('/content/titanic-passengers.csv', sep=\";\")\r\n",
        "titanic_df.head(10)"
      ],
      "execution_count": 412,
      "outputs": [
        {
          "output_type": "execute_result",
          "data": {
            "text/html": [
              "<div>\n",
              "<style scoped>\n",
              "    .dataframe tbody tr th:only-of-type {\n",
              "        vertical-align: middle;\n",
              "    }\n",
              "\n",
              "    .dataframe tbody tr th {\n",
              "        vertical-align: top;\n",
              "    }\n",
              "\n",
              "    .dataframe thead th {\n",
              "        text-align: right;\n",
              "    }\n",
              "</style>\n",
              "<table border=\"1\" class=\"dataframe\">\n",
              "  <thead>\n",
              "    <tr style=\"text-align: right;\">\n",
              "      <th></th>\n",
              "      <th>PassengerId</th>\n",
              "      <th>Survived</th>\n",
              "      <th>Pclass</th>\n",
              "      <th>Name</th>\n",
              "      <th>Sex</th>\n",
              "      <th>Age</th>\n",
              "      <th>SibSp</th>\n",
              "      <th>Parch</th>\n",
              "      <th>Ticket</th>\n",
              "      <th>Fare</th>\n",
              "      <th>Cabin</th>\n",
              "      <th>Embarked</th>\n",
              "    </tr>\n",
              "  </thead>\n",
              "  <tbody>\n",
              "    <tr>\n",
              "      <th>0</th>\n",
              "      <td>343</td>\n",
              "      <td>No</td>\n",
              "      <td>2</td>\n",
              "      <td>Collander, Mr. Erik Gustaf</td>\n",
              "      <td>male</td>\n",
              "      <td>28.0</td>\n",
              "      <td>0</td>\n",
              "      <td>0</td>\n",
              "      <td>248740</td>\n",
              "      <td>13.0000</td>\n",
              "      <td>NaN</td>\n",
              "      <td>S</td>\n",
              "    </tr>\n",
              "    <tr>\n",
              "      <th>1</th>\n",
              "      <td>76</td>\n",
              "      <td>No</td>\n",
              "      <td>3</td>\n",
              "      <td>Moen, Mr. Sigurd Hansen</td>\n",
              "      <td>male</td>\n",
              "      <td>25.0</td>\n",
              "      <td>0</td>\n",
              "      <td>0</td>\n",
              "      <td>348123</td>\n",
              "      <td>7.6500</td>\n",
              "      <td>F G73</td>\n",
              "      <td>S</td>\n",
              "    </tr>\n",
              "    <tr>\n",
              "      <th>2</th>\n",
              "      <td>641</td>\n",
              "      <td>No</td>\n",
              "      <td>3</td>\n",
              "      <td>Jensen, Mr. Hans Peder</td>\n",
              "      <td>male</td>\n",
              "      <td>20.0</td>\n",
              "      <td>0</td>\n",
              "      <td>0</td>\n",
              "      <td>350050</td>\n",
              "      <td>7.8542</td>\n",
              "      <td>NaN</td>\n",
              "      <td>S</td>\n",
              "    </tr>\n",
              "    <tr>\n",
              "      <th>3</th>\n",
              "      <td>568</td>\n",
              "      <td>No</td>\n",
              "      <td>3</td>\n",
              "      <td>Palsson, Mrs. Nils (Alma Cornelia Berglund)</td>\n",
              "      <td>female</td>\n",
              "      <td>29.0</td>\n",
              "      <td>0</td>\n",
              "      <td>4</td>\n",
              "      <td>349909</td>\n",
              "      <td>21.0750</td>\n",
              "      <td>NaN</td>\n",
              "      <td>S</td>\n",
              "    </tr>\n",
              "    <tr>\n",
              "      <th>4</th>\n",
              "      <td>672</td>\n",
              "      <td>No</td>\n",
              "      <td>1</td>\n",
              "      <td>Davidson, Mr. Thornton</td>\n",
              "      <td>male</td>\n",
              "      <td>31.0</td>\n",
              "      <td>1</td>\n",
              "      <td>0</td>\n",
              "      <td>F.C. 12750</td>\n",
              "      <td>52.0000</td>\n",
              "      <td>B71</td>\n",
              "      <td>S</td>\n",
              "    </tr>\n",
              "    <tr>\n",
              "      <th>5</th>\n",
              "      <td>105</td>\n",
              "      <td>No</td>\n",
              "      <td>3</td>\n",
              "      <td>Gustafsson, Mr. Anders Vilhelm</td>\n",
              "      <td>male</td>\n",
              "      <td>37.0</td>\n",
              "      <td>2</td>\n",
              "      <td>0</td>\n",
              "      <td>3101276</td>\n",
              "      <td>7.9250</td>\n",
              "      <td>NaN</td>\n",
              "      <td>S</td>\n",
              "    </tr>\n",
              "    <tr>\n",
              "      <th>6</th>\n",
              "      <td>576</td>\n",
              "      <td>No</td>\n",
              "      <td>3</td>\n",
              "      <td>Patchett, Mr. George</td>\n",
              "      <td>male</td>\n",
              "      <td>19.0</td>\n",
              "      <td>0</td>\n",
              "      <td>0</td>\n",
              "      <td>358585</td>\n",
              "      <td>14.5000</td>\n",
              "      <td>NaN</td>\n",
              "      <td>S</td>\n",
              "    </tr>\n",
              "    <tr>\n",
              "      <th>7</th>\n",
              "      <td>382</td>\n",
              "      <td>Yes</td>\n",
              "      <td>3</td>\n",
              "      <td>Nakid, Miss. Maria (\"Mary\")</td>\n",
              "      <td>female</td>\n",
              "      <td>1.0</td>\n",
              "      <td>0</td>\n",
              "      <td>2</td>\n",
              "      <td>2653</td>\n",
              "      <td>15.7417</td>\n",
              "      <td>NaN</td>\n",
              "      <td>C</td>\n",
              "    </tr>\n",
              "    <tr>\n",
              "      <th>8</th>\n",
              "      <td>228</td>\n",
              "      <td>No</td>\n",
              "      <td>3</td>\n",
              "      <td>Lovell, Mr. John Hall (\"Henry\")</td>\n",
              "      <td>male</td>\n",
              "      <td>20.5</td>\n",
              "      <td>0</td>\n",
              "      <td>0</td>\n",
              "      <td>A/5 21173</td>\n",
              "      <td>7.2500</td>\n",
              "      <td>NaN</td>\n",
              "      <td>S</td>\n",
              "    </tr>\n",
              "    <tr>\n",
              "      <th>9</th>\n",
              "      <td>433</td>\n",
              "      <td>Yes</td>\n",
              "      <td>2</td>\n",
              "      <td>Louch, Mrs. Charles Alexander (Alice Adelaide ...</td>\n",
              "      <td>female</td>\n",
              "      <td>42.0</td>\n",
              "      <td>1</td>\n",
              "      <td>0</td>\n",
              "      <td>SC/AH 3085</td>\n",
              "      <td>26.0000</td>\n",
              "      <td>NaN</td>\n",
              "      <td>S</td>\n",
              "    </tr>\n",
              "  </tbody>\n",
              "</table>\n",
              "</div>"
            ],
            "text/plain": [
              "   PassengerId Survived  Pclass  ...     Fare  Cabin  Embarked\n",
              "0          343       No       2  ...  13.0000    NaN         S\n",
              "1           76       No       3  ...   7.6500  F G73         S\n",
              "2          641       No       3  ...   7.8542    NaN         S\n",
              "3          568       No       3  ...  21.0750    NaN         S\n",
              "4          672       No       1  ...  52.0000    B71         S\n",
              "5          105       No       3  ...   7.9250    NaN         S\n",
              "6          576       No       3  ...  14.5000    NaN         S\n",
              "7          382      Yes       3  ...  15.7417    NaN         C\n",
              "8          228       No       3  ...   7.2500    NaN         S\n",
              "9          433      Yes       2  ...  26.0000    NaN         S\n",
              "\n",
              "[10 rows x 12 columns]"
            ]
          },
          "metadata": {
            "tags": []
          },
          "execution_count": 412
        }
      ]
    },
    {
      "cell_type": "markdown",
      "metadata": {
        "id": "zq2rNw71HB1S"
      },
      "source": [
        "# **1- Preprocessing part**"
      ]
    },
    {
      "cell_type": "code",
      "metadata": {
        "id": "600zWShwHEC8"
      },
      "source": [
        "# Cabin feature is useless & contain null values\r\n",
        "# so ==> dropping the useless column\r\n",
        "titanic_df.drop('Cabin',axis=1, inplace=True)"
      ],
      "execution_count": 413,
      "outputs": []
    },
    {
      "cell_type": "code",
      "metadata": {
        "id": "CQWsf01QHKix"
      },
      "source": [
        "# notes\r\n",
        "# PassengerId = id of each passenger (not important)\r\n",
        "# Survived = target (1= survived, 0 = not survived)\r\n",
        "# Pclass = class of pessengers (1,2 & 3)\r\n",
        "# Age = it's important feature (contain null values) ==> replace them with the mean or mode"
      ],
      "execution_count": 414,
      "outputs": []
    },
    {
      "cell_type": "code",
      "metadata": {
        "colab": {
          "base_uri": "https://localhost:8080/",
          "height": 355
        },
        "id": "vEFw18PEHRe4",
        "outputId": "e7431ed1-c2eb-48a8-e2a4-71a1f329f1d5"
      },
      "source": [
        "# fill the Nan values in Age feature\r\n",
        "titanic_df['Age'] = titanic_df['Age'].fillna(titanic_df['Age'].mean())\r\n",
        "titanic_df.head(10)"
      ],
      "execution_count": 415,
      "outputs": [
        {
          "output_type": "execute_result",
          "data": {
            "text/html": [
              "<div>\n",
              "<style scoped>\n",
              "    .dataframe tbody tr th:only-of-type {\n",
              "        vertical-align: middle;\n",
              "    }\n",
              "\n",
              "    .dataframe tbody tr th {\n",
              "        vertical-align: top;\n",
              "    }\n",
              "\n",
              "    .dataframe thead th {\n",
              "        text-align: right;\n",
              "    }\n",
              "</style>\n",
              "<table border=\"1\" class=\"dataframe\">\n",
              "  <thead>\n",
              "    <tr style=\"text-align: right;\">\n",
              "      <th></th>\n",
              "      <th>PassengerId</th>\n",
              "      <th>Survived</th>\n",
              "      <th>Pclass</th>\n",
              "      <th>Name</th>\n",
              "      <th>Sex</th>\n",
              "      <th>Age</th>\n",
              "      <th>SibSp</th>\n",
              "      <th>Parch</th>\n",
              "      <th>Ticket</th>\n",
              "      <th>Fare</th>\n",
              "      <th>Embarked</th>\n",
              "    </tr>\n",
              "  </thead>\n",
              "  <tbody>\n",
              "    <tr>\n",
              "      <th>0</th>\n",
              "      <td>343</td>\n",
              "      <td>No</td>\n",
              "      <td>2</td>\n",
              "      <td>Collander, Mr. Erik Gustaf</td>\n",
              "      <td>male</td>\n",
              "      <td>28.0</td>\n",
              "      <td>0</td>\n",
              "      <td>0</td>\n",
              "      <td>248740</td>\n",
              "      <td>13.0000</td>\n",
              "      <td>S</td>\n",
              "    </tr>\n",
              "    <tr>\n",
              "      <th>1</th>\n",
              "      <td>76</td>\n",
              "      <td>No</td>\n",
              "      <td>3</td>\n",
              "      <td>Moen, Mr. Sigurd Hansen</td>\n",
              "      <td>male</td>\n",
              "      <td>25.0</td>\n",
              "      <td>0</td>\n",
              "      <td>0</td>\n",
              "      <td>348123</td>\n",
              "      <td>7.6500</td>\n",
              "      <td>S</td>\n",
              "    </tr>\n",
              "    <tr>\n",
              "      <th>2</th>\n",
              "      <td>641</td>\n",
              "      <td>No</td>\n",
              "      <td>3</td>\n",
              "      <td>Jensen, Mr. Hans Peder</td>\n",
              "      <td>male</td>\n",
              "      <td>20.0</td>\n",
              "      <td>0</td>\n",
              "      <td>0</td>\n",
              "      <td>350050</td>\n",
              "      <td>7.8542</td>\n",
              "      <td>S</td>\n",
              "    </tr>\n",
              "    <tr>\n",
              "      <th>3</th>\n",
              "      <td>568</td>\n",
              "      <td>No</td>\n",
              "      <td>3</td>\n",
              "      <td>Palsson, Mrs. Nils (Alma Cornelia Berglund)</td>\n",
              "      <td>female</td>\n",
              "      <td>29.0</td>\n",
              "      <td>0</td>\n",
              "      <td>4</td>\n",
              "      <td>349909</td>\n",
              "      <td>21.0750</td>\n",
              "      <td>S</td>\n",
              "    </tr>\n",
              "    <tr>\n",
              "      <th>4</th>\n",
              "      <td>672</td>\n",
              "      <td>No</td>\n",
              "      <td>1</td>\n",
              "      <td>Davidson, Mr. Thornton</td>\n",
              "      <td>male</td>\n",
              "      <td>31.0</td>\n",
              "      <td>1</td>\n",
              "      <td>0</td>\n",
              "      <td>F.C. 12750</td>\n",
              "      <td>52.0000</td>\n",
              "      <td>S</td>\n",
              "    </tr>\n",
              "    <tr>\n",
              "      <th>5</th>\n",
              "      <td>105</td>\n",
              "      <td>No</td>\n",
              "      <td>3</td>\n",
              "      <td>Gustafsson, Mr. Anders Vilhelm</td>\n",
              "      <td>male</td>\n",
              "      <td>37.0</td>\n",
              "      <td>2</td>\n",
              "      <td>0</td>\n",
              "      <td>3101276</td>\n",
              "      <td>7.9250</td>\n",
              "      <td>S</td>\n",
              "    </tr>\n",
              "    <tr>\n",
              "      <th>6</th>\n",
              "      <td>576</td>\n",
              "      <td>No</td>\n",
              "      <td>3</td>\n",
              "      <td>Patchett, Mr. George</td>\n",
              "      <td>male</td>\n",
              "      <td>19.0</td>\n",
              "      <td>0</td>\n",
              "      <td>0</td>\n",
              "      <td>358585</td>\n",
              "      <td>14.5000</td>\n",
              "      <td>S</td>\n",
              "    </tr>\n",
              "    <tr>\n",
              "      <th>7</th>\n",
              "      <td>382</td>\n",
              "      <td>Yes</td>\n",
              "      <td>3</td>\n",
              "      <td>Nakid, Miss. Maria (\"Mary\")</td>\n",
              "      <td>female</td>\n",
              "      <td>1.0</td>\n",
              "      <td>0</td>\n",
              "      <td>2</td>\n",
              "      <td>2653</td>\n",
              "      <td>15.7417</td>\n",
              "      <td>C</td>\n",
              "    </tr>\n",
              "    <tr>\n",
              "      <th>8</th>\n",
              "      <td>228</td>\n",
              "      <td>No</td>\n",
              "      <td>3</td>\n",
              "      <td>Lovell, Mr. John Hall (\"Henry\")</td>\n",
              "      <td>male</td>\n",
              "      <td>20.5</td>\n",
              "      <td>0</td>\n",
              "      <td>0</td>\n",
              "      <td>A/5 21173</td>\n",
              "      <td>7.2500</td>\n",
              "      <td>S</td>\n",
              "    </tr>\n",
              "    <tr>\n",
              "      <th>9</th>\n",
              "      <td>433</td>\n",
              "      <td>Yes</td>\n",
              "      <td>2</td>\n",
              "      <td>Louch, Mrs. Charles Alexander (Alice Adelaide ...</td>\n",
              "      <td>female</td>\n",
              "      <td>42.0</td>\n",
              "      <td>1</td>\n",
              "      <td>0</td>\n",
              "      <td>SC/AH 3085</td>\n",
              "      <td>26.0000</td>\n",
              "      <td>S</td>\n",
              "    </tr>\n",
              "  </tbody>\n",
              "</table>\n",
              "</div>"
            ],
            "text/plain": [
              "   PassengerId Survived  Pclass  ...      Ticket     Fare  Embarked\n",
              "0          343       No       2  ...      248740  13.0000         S\n",
              "1           76       No       3  ...      348123   7.6500         S\n",
              "2          641       No       3  ...      350050   7.8542         S\n",
              "3          568       No       3  ...      349909  21.0750         S\n",
              "4          672       No       1  ...  F.C. 12750  52.0000         S\n",
              "5          105       No       3  ...     3101276   7.9250         S\n",
              "6          576       No       3  ...      358585  14.5000         S\n",
              "7          382      Yes       3  ...        2653  15.7417         C\n",
              "8          228       No       3  ...   A/5 21173   7.2500         S\n",
              "9          433      Yes       2  ...  SC/AH 3085  26.0000         S\n",
              "\n",
              "[10 rows x 11 columns]"
            ]
          },
          "metadata": {
            "tags": []
          },
          "execution_count": 415
        }
      ]
    },
    {
      "cell_type": "code",
      "metadata": {
        "colab": {
          "base_uri": "https://localhost:8080/"
        },
        "id": "kxBcVk1IHbe5",
        "outputId": "7b4f55dd-9d21-451c-8c90-0aa9eee91c7d"
      },
      "source": [
        "# Count \r\n",
        "print(titanic_df.groupby(['Embarked'])['PassengerId'].count())"
      ],
      "execution_count": 416,
      "outputs": [
        {
          "output_type": "stream",
          "text": [
            "Embarked\n",
            "C    168\n",
            "Q     77\n",
            "S    644\n",
            "Name: PassengerId, dtype: int64\n"
          ],
          "name": "stdout"
        }
      ]
    },
    {
      "cell_type": "code",
      "metadata": {
        "colab": {
          "base_uri": "https://localhost:8080/"
        },
        "id": "UvTvi_poHaWY",
        "outputId": "b730229e-27dc-4bc8-f834-8c55d03be15a"
      },
      "source": [
        "# fill nan embarked by 's' most relevent \r\n",
        "titanic_df['Embarked'] = titanic_df['Embarked'].fillna('S')\r\n",
        "titanic_df['Embarked'].isnull().sum()"
      ],
      "execution_count": 417,
      "outputs": [
        {
          "output_type": "execute_result",
          "data": {
            "text/plain": [
              "0"
            ]
          },
          "metadata": {
            "tags": []
          },
          "execution_count": 417
        }
      ]
    },
    {
      "cell_type": "code",
      "metadata": {
        "colab": {
          "base_uri": "https://localhost:8080/"
        },
        "id": "9CxMZVoiIgsR",
        "outputId": "3f2f4bd8-c607-4312-c55b-d75e35e181d9"
      },
      "source": [
        "# check empties/nan\r\n",
        "titanic_df.isnull().values.any()\r\n",
        "# False no null value"
      ],
      "execution_count": 418,
      "outputs": [
        {
          "output_type": "execute_result",
          "data": {
            "text/plain": [
              "False"
            ]
          },
          "metadata": {
            "tags": []
          },
          "execution_count": 418
        }
      ]
    },
    {
      "cell_type": "code",
      "metadata": {
        "colab": {
          "base_uri": "https://localhost:8080/"
        },
        "id": "rBzeCNXyIk5I",
        "outputId": "c409686d-272d-46ae-f2dc-75c80041246d"
      },
      "source": [
        "titanic_df.isnull().sum()"
      ],
      "execution_count": 419,
      "outputs": [
        {
          "output_type": "execute_result",
          "data": {
            "text/plain": [
              "PassengerId    0\n",
              "Survived       0\n",
              "Pclass         0\n",
              "Name           0\n",
              "Sex            0\n",
              "Age            0\n",
              "SibSp          0\n",
              "Parch          0\n",
              "Ticket         0\n",
              "Fare           0\n",
              "Embarked       0\n",
              "dtype: int64"
            ]
          },
          "metadata": {
            "tags": []
          },
          "execution_count": 419
        }
      ]
    },
    {
      "cell_type": "code",
      "metadata": {
        "id": "nxg5owV1I9-J"
      },
      "source": [
        "# Drop 'Ticket', 'PassengerId' columns => useless features\r\n",
        "titanic_df = titanic_df.drop(columns=['Ticket', 'PassengerId'])"
      ],
      "execution_count": 420,
      "outputs": []
    },
    {
      "cell_type": "code",
      "metadata": {
        "id": "wTFoNCeTR41L"
      },
      "source": [
        "# replace survived by 0 = no, 1 = yes\r\n",
        "titanic_df[\"Survived\"] = titanic_df[\"Survived\"].map({\"Yes\":1, \"No\":0})"
      ],
      "execution_count": 421,
      "outputs": []
    },
    {
      "cell_type": "code",
      "metadata": {
        "colab": {
          "base_uri": "https://localhost:8080/"
        },
        "id": "tZWzpk4mJMOJ",
        "outputId": "8fc076f9-27b1-4e53-edd2-5cbdb723d55c"
      },
      "source": [
        "titanic_df.info()"
      ],
      "execution_count": 422,
      "outputs": [
        {
          "output_type": "stream",
          "text": [
            "<class 'pandas.core.frame.DataFrame'>\n",
            "RangeIndex: 891 entries, 0 to 890\n",
            "Data columns (total 9 columns):\n",
            " #   Column    Non-Null Count  Dtype  \n",
            "---  ------    --------------  -----  \n",
            " 0   Survived  891 non-null    int64  \n",
            " 1   Pclass    891 non-null    int64  \n",
            " 2   Name      891 non-null    object \n",
            " 3   Sex       891 non-null    object \n",
            " 4   Age       891 non-null    float64\n",
            " 5   SibSp     891 non-null    int64  \n",
            " 6   Parch     891 non-null    int64  \n",
            " 7   Fare      891 non-null    float64\n",
            " 8   Embarked  891 non-null    object \n",
            "dtypes: float64(2), int64(4), object(3)\n",
            "memory usage: 62.8+ KB\n"
          ],
          "name": "stdout"
        }
      ]
    },
    {
      "cell_type": "code",
      "metadata": {
        "colab": {
          "base_uri": "https://localhost:8080/",
          "height": 294
        },
        "id": "basjtT2mJPGy",
        "outputId": "55689a96-e787-498e-b433-bb8e2e9d965f"
      },
      "source": [
        "titanic_df.describe()"
      ],
      "execution_count": 423,
      "outputs": [
        {
          "output_type": "execute_result",
          "data": {
            "text/html": [
              "<div>\n",
              "<style scoped>\n",
              "    .dataframe tbody tr th:only-of-type {\n",
              "        vertical-align: middle;\n",
              "    }\n",
              "\n",
              "    .dataframe tbody tr th {\n",
              "        vertical-align: top;\n",
              "    }\n",
              "\n",
              "    .dataframe thead th {\n",
              "        text-align: right;\n",
              "    }\n",
              "</style>\n",
              "<table border=\"1\" class=\"dataframe\">\n",
              "  <thead>\n",
              "    <tr style=\"text-align: right;\">\n",
              "      <th></th>\n",
              "      <th>Survived</th>\n",
              "      <th>Pclass</th>\n",
              "      <th>Age</th>\n",
              "      <th>SibSp</th>\n",
              "      <th>Parch</th>\n",
              "      <th>Fare</th>\n",
              "    </tr>\n",
              "  </thead>\n",
              "  <tbody>\n",
              "    <tr>\n",
              "      <th>count</th>\n",
              "      <td>891.000000</td>\n",
              "      <td>891.000000</td>\n",
              "      <td>891.000000</td>\n",
              "      <td>891.000000</td>\n",
              "      <td>891.000000</td>\n",
              "      <td>891.000000</td>\n",
              "    </tr>\n",
              "    <tr>\n",
              "      <th>mean</th>\n",
              "      <td>0.383838</td>\n",
              "      <td>2.308642</td>\n",
              "      <td>29.699118</td>\n",
              "      <td>0.523008</td>\n",
              "      <td>0.381594</td>\n",
              "      <td>32.204208</td>\n",
              "    </tr>\n",
              "    <tr>\n",
              "      <th>std</th>\n",
              "      <td>0.486592</td>\n",
              "      <td>0.836071</td>\n",
              "      <td>13.002015</td>\n",
              "      <td>1.102743</td>\n",
              "      <td>0.806057</td>\n",
              "      <td>49.693429</td>\n",
              "    </tr>\n",
              "    <tr>\n",
              "      <th>min</th>\n",
              "      <td>0.000000</td>\n",
              "      <td>1.000000</td>\n",
              "      <td>0.420000</td>\n",
              "      <td>0.000000</td>\n",
              "      <td>0.000000</td>\n",
              "      <td>0.000000</td>\n",
              "    </tr>\n",
              "    <tr>\n",
              "      <th>25%</th>\n",
              "      <td>0.000000</td>\n",
              "      <td>2.000000</td>\n",
              "      <td>22.000000</td>\n",
              "      <td>0.000000</td>\n",
              "      <td>0.000000</td>\n",
              "      <td>7.910400</td>\n",
              "    </tr>\n",
              "    <tr>\n",
              "      <th>50%</th>\n",
              "      <td>0.000000</td>\n",
              "      <td>3.000000</td>\n",
              "      <td>29.699118</td>\n",
              "      <td>0.000000</td>\n",
              "      <td>0.000000</td>\n",
              "      <td>14.454200</td>\n",
              "    </tr>\n",
              "    <tr>\n",
              "      <th>75%</th>\n",
              "      <td>1.000000</td>\n",
              "      <td>3.000000</td>\n",
              "      <td>35.000000</td>\n",
              "      <td>1.000000</td>\n",
              "      <td>0.000000</td>\n",
              "      <td>31.000000</td>\n",
              "    </tr>\n",
              "    <tr>\n",
              "      <th>max</th>\n",
              "      <td>1.000000</td>\n",
              "      <td>3.000000</td>\n",
              "      <td>80.000000</td>\n",
              "      <td>8.000000</td>\n",
              "      <td>6.000000</td>\n",
              "      <td>512.329200</td>\n",
              "    </tr>\n",
              "  </tbody>\n",
              "</table>\n",
              "</div>"
            ],
            "text/plain": [
              "         Survived      Pclass         Age       SibSp       Parch        Fare\n",
              "count  891.000000  891.000000  891.000000  891.000000  891.000000  891.000000\n",
              "mean     0.383838    2.308642   29.699118    0.523008    0.381594   32.204208\n",
              "std      0.486592    0.836071   13.002015    1.102743    0.806057   49.693429\n",
              "min      0.000000    1.000000    0.420000    0.000000    0.000000    0.000000\n",
              "25%      0.000000    2.000000   22.000000    0.000000    0.000000    7.910400\n",
              "50%      0.000000    3.000000   29.699118    0.000000    0.000000   14.454200\n",
              "75%      1.000000    3.000000   35.000000    1.000000    0.000000   31.000000\n",
              "max      1.000000    3.000000   80.000000    8.000000    6.000000  512.329200"
            ]
          },
          "metadata": {
            "tags": []
          },
          "execution_count": 423
        }
      ]
    },
    {
      "cell_type": "markdown",
      "metadata": {
        "id": "AGuJgRwVJY9q"
      },
      "source": [
        "# **2. Visualization part**"
      ]
    },
    {
      "cell_type": "code",
      "metadata": {
        "colab": {
          "base_uri": "https://localhost:8080/",
          "height": 401
        },
        "id": "xBo4D8hLJVLC",
        "outputId": "9a32571a-be97-49d4-cba8-a498291d76b8"
      },
      "source": [
        "# visualitation of class\r\n",
        "sns.catplot(x=\"Pclass\", data=titanic_df, \r\n",
        "               kind=\"count\",\r\n",
        "               palette=\"husl\")\r\n"
      ],
      "execution_count": 424,
      "outputs": [
        {
          "output_type": "execute_result",
          "data": {
            "text/plain": [
              "<seaborn.axisgrid.FacetGrid at 0x7f4931870350>"
            ]
          },
          "metadata": {
            "tags": []
          },
          "execution_count": 424
        },
        {
          "output_type": "display_data",
          "data": {
            "image/png": "[encoded data removed]",
            "text/plain": [
              "<Figure size 360x360 with 1 Axes>"
            ]
          },
          "metadata": {
            "tags": [],
            "needs_background": "light"
          }
        }
      ]
    },
    {
      "cell_type": "code",
      "metadata": {
        "colab": {
          "base_uri": "https://localhost:8080/",
          "height": 401
        },
        "id": "E3TfA5RcJe-B",
        "outputId": "db679469-5976-4b1f-e6ba-8eb0625edf6c"
      },
      "source": [
        "# count male/female entries up \r\n",
        "\r\n",
        "sns.catplot(x=\"Sex\", data=titanic_df, kind=\"count\",\r\n",
        "               hue=\"Survived\", palette=\"cubehelix\")"
      ],
      "execution_count": 425,
      "outputs": [
        {
          "output_type": "execute_result",
          "data": {
            "text/plain": [
              "<seaborn.axisgrid.FacetGrid at 0x7f49317d8dd0>"
            ]
          },
          "metadata": {
            "tags": []
          },
          "execution_count": 425
        },
        {
          "output_type": "display_data",
          "data": {
            "image/png": "[encoded data removed]",
            "text/plain": [
              "<Figure size 411.875x360 with 1 Axes>"
            ]
          },
          "metadata": {
            "tags": [],
            "needs_background": "light"
          }
        }
      ]
    },
    {
      "cell_type": "code",
      "metadata": {
        "colab": {
          "base_uri": "https://localhost:8080/",
          "height": 401
        },
        "id": "1lI8WHxGJktC",
        "outputId": "feb5404a-d22a-4f32-d263-985e9b331f6a"
      },
      "source": [
        "sns.catplot(x=\"Pclass\", data=titanic_df, \r\n",
        "               hue=\"Sex\",\r\n",
        "               kind=\"count\", palette=\"deep\")"
      ],
      "execution_count": 426,
      "outputs": [
        {
          "output_type": "execute_result",
          "data": {
            "text/plain": [
              "<seaborn.axisgrid.FacetGrid at 0x7f493180dbd0>"
            ]
          },
          "metadata": {
            "tags": []
          },
          "execution_count": 426
        },
        {
          "output_type": "display_data",
          "data": {
            "image/png": "[encoded data removed]",
            "text/plain": [
              "<Figure size 430.5x360 with 1 Axes>"
            ]
          },
          "metadata": {
            "tags": [],
            "needs_background": "light"
          }
        }
      ]
    },
    {
      "cell_type": "code",
      "metadata": {
        "colab": {
          "base_uri": "https://localhost:8080/",
          "height": 287
        },
        "id": "07NcJH5yJoep",
        "outputId": "947a9231-53a6-41b7-c3e7-92d29da204bf"
      },
      "source": [
        "#  calculate the histogram of the age\r\n",
        "\r\n",
        "titanic_df['Age'].hist(bins=25)"
      ],
      "execution_count": 427,
      "outputs": [
        {
          "output_type": "execute_result",
          "data": {
            "text/plain": [
              "<matplotlib.axes._subplots.AxesSubplot at 0x7f493180dd50>"
            ]
          },
          "metadata": {
            "tags": []
          },
          "execution_count": 427
        },
        {
          "output_type": "display_data",
          "data": {
            "image/png": "[encoded data removed]",
            "text/plain": [
              "<Figure size 432x288 with 1 Axes>"
            ]
          },
          "metadata": {
            "tags": [],
            "needs_background": "light"
          }
        }
      ]
    },
    {
      "cell_type": "code",
      "metadata": {
        "colab": {
          "base_uri": "https://localhost:8080/",
          "height": 401
        },
        "id": "1DPhakBrJsNh",
        "outputId": "c8bcf147-ce53-4f04-c7ff-50181c81642b"
      },
      "source": [
        "# survived or not by class\r\n",
        "sns.catplot(x=\"Survived\", data=titanic_df, \r\n",
        "               kind=\"count\", palette=\"dark\", hue='Pclass')"
      ],
      "execution_count": 428,
      "outputs": [
        {
          "output_type": "execute_result",
          "data": {
            "text/plain": [
              "<seaborn.axisgrid.FacetGrid at 0x7f493171c190>"
            ]
          },
          "metadata": {
            "tags": []
          },
          "execution_count": 428
        },
        {
          "output_type": "display_data",
          "data": {
            "image/png": "[encoded data removed]",
            "text/plain": [
              "<Figure size 402.375x360 with 1 Axes>"
            ]
          },
          "metadata": {
            "tags": [],
            "needs_background": "light"
          }
        }
      ]
    },
    {
      "cell_type": "code",
      "metadata": {
        "colab": {
          "base_uri": "https://localhost:8080/",
          "height": 401
        },
        "id": "4dnYo6b9J-q6",
        "outputId": "f6d5939c-ca4a-4a32-9c16-6c817428f047"
      },
      "source": [
        "# survived or not by Gender\r\n",
        "sns.catplot(x=\"Sex\", data=titanic_df, kind=\"count\",\r\n",
        "               hue=\"Survived\", palette=\"cubehelix\")\r\n"
      ],
      "execution_count": 429,
      "outputs": [
        {
          "output_type": "execute_result",
          "data": {
            "text/plain": [
              "<seaborn.axisgrid.FacetGrid at 0x7f4931608c90>"
            ]
          },
          "metadata": {
            "tags": []
          },
          "execution_count": 429
        },
        {
          "output_type": "display_data",
          "data": {
            "image/png": "[encoded data removed]",
            "text/plain": [
              "<Figure size 411.875x360 with 1 Axes>"
            ]
          },
          "metadata": {
            "tags": [],
            "needs_background": "light"
          }
        }
      ]
    },
    {
      "cell_type": "markdown",
      "metadata": {
        "id": "Zo11dbrOKuUo"
      },
      "source": [
        "* Visualize the correlation between \"Sex\" & \"Age\" in a plot of your choosing. \r\n",
        "\r\n"
      ]
    },
    {
      "cell_type": "code",
      "metadata": {
        "colab": {
          "base_uri": "https://localhost:8080/",
          "height": 297
        },
        "id": "76vDX9wjM9aj",
        "outputId": "64f2cb42-2158-446d-97aa-6bf532e87115"
      },
      "source": [
        "#sex & age /survived or not\r\n",
        "sns.violinplot(x =\"Sex\", y =\"Age\", hue =\"Survived\",  \r\n",
        "data = titanic_df, split = True) "
      ],
      "execution_count": 430,
      "outputs": [
        {
          "output_type": "execute_result",
          "data": {
            "text/plain": [
              "<matplotlib.axes._subplots.AxesSubplot at 0x7f4931569590>"
            ]
          },
          "metadata": {
            "tags": []
          },
          "execution_count": 430
        },
        {
          "output_type": "display_data",
          "data": {
            "image/png": "[encoded data removed]",
            "text/plain": [
              "<Figure size 432x288 with 1 Axes>"
            ]
          },
          "metadata": {
            "tags": [],
            "needs_background": "light"
          }
        }
      ]
    },
    {
      "cell_type": "code",
      "metadata": {
        "colab": {
          "base_uri": "https://localhost:8080/",
          "height": 401
        },
        "id": "StJLtOdlS1oB",
        "outputId": "2db10565-a9ae-406d-8ad9-99ad90f01c84"
      },
      "source": [
        "# Gender & Age intervals (parapport class)\r\n",
        "age_intervals = pd.qcut(titanic_df['Age'], 3)\r\n",
        "titanic_df.pivot_table('Survived', \r\n",
        "                       ['Sex', age_intervals], \r\n",
        "                       'Pclass').plot(kind='bar')"
      ],
      "execution_count": 431,
      "outputs": [
        {
          "output_type": "execute_result",
          "data": {
            "text/plain": [
              "<matplotlib.axes._subplots.AxesSubplot at 0x7f49314dad90>"
            ]
          },
          "metadata": {
            "tags": []
          },
          "execution_count": 431
        },
        {
          "output_type": "display_data",
          "data": {
            "image/png": "[encoded data removed]",
            "text/plain": [
              "<Figure size 432x288 with 1 Axes>"
            ]
          },
          "metadata": {
            "tags": [],
            "needs_background": "light"
          }
        }
      ]
    },
    {
      "cell_type": "code",
      "metadata": {
        "colab": {
          "base_uri": "https://localhost:8080/",
          "height": 297
        },
        "id": "72zJ-5IHK142",
        "outputId": "04216c51-dfd1-4a1d-d993-414444890db1"
      },
      "source": [
        "# Gender & Age  \r\n",
        "# 1 = survivded, 0  = not survived\r\n",
        "sns.barplot(x='Sex', y='Age', \r\n",
        "               hue='Survived', \r\n",
        "               data=titanic_df,\r\n",
        "            palette=\"cubehelix\")"
      ],
      "execution_count": 432,
      "outputs": [
        {
          "output_type": "execute_result",
          "data": {
            "text/plain": [
              "<matplotlib.axes._subplots.AxesSubplot at 0x7f493146c4d0>"
            ]
          },
          "metadata": {
            "tags": []
          },
          "execution_count": 432
        },
        {
          "output_type": "display_data",
          "data": {
            "image/png": "[encoded data removed]",
            "text/plain": [
              "<Figure size 432x288 with 1 Axes>"
            ]
          },
          "metadata": {
            "tags": [],
            "needs_background": "light"
          }
        }
      ]
    },
    {
      "cell_type": "code",
      "metadata": {
        "colab": {
          "base_uri": "https://localhost:8080/",
          "height": 401
        },
        "id": "lMhw_I6WOLLg",
        "outputId": "8bb2c485-6660-4865-be7a-7abff51a4923"
      },
      "source": [
        "sns.relplot(x=\"Age\", y=\"Sex\", data=titanic_df, hue=\"Survived\", \r\n",
        "            palette=\"colorblind\")"
      ],
      "execution_count": 433,
      "outputs": [
        {
          "output_type": "execute_result",
          "data": {
            "text/plain": [
              "<seaborn.axisgrid.FacetGrid at 0x7f4931443390>"
            ]
          },
          "metadata": {
            "tags": []
          },
          "execution_count": 433
        },
        {
          "output_type": "display_data",
          "data": {
            "image/png": "[encoded data removed]",
            "text/plain": [
              "<Figure size 411.875x360 with 1 Axes>"
            ]
          },
          "metadata": {
            "tags": [],
            "needs_background": "light"
          }
        }
      ]
    },
    {
      "cell_type": "code",
      "metadata": {
        "colab": {
          "base_uri": "https://localhost:8080/",
          "height": 401
        },
        "id": "du8FiLT2OQLX",
        "outputId": "bbbf9d12-59e6-4b32-f11d-ab1eb98f22d0"
      },
      "source": [
        "# visualize Age vs Sex using box plot\r\n",
        "sns.catplot(y=\"Age\", x=\"Sex\", data = titanic_df, kind=\"box\", palette='husl')"
      ],
      "execution_count": 434,
      "outputs": [
        {
          "output_type": "execute_result",
          "data": {
            "text/plain": [
              "<seaborn.axisgrid.FacetGrid at 0x7f4932424a50>"
            ]
          },
          "metadata": {
            "tags": []
          },
          "execution_count": 434
        },
        {
          "output_type": "display_data",
          "data": {
            "image/png": "[encoded data removed]",
            "text/plain": [
              "<Figure size 360x360 with 1 Axes>"
            ]
          },
          "metadata": {
            "tags": [],
            "needs_background": "light"
          }
        }
      ]
    },
    {
      "cell_type": "markdown",
      "metadata": {
        "id": "7rbB9IHGOe6q"
      },
      "source": [
        "* -Sibsp & survived "
      ]
    },
    {
      "cell_type": "code",
      "metadata": {
        "colab": {
          "base_uri": "https://localhost:8080/",
          "height": 455
        },
        "id": "mIRBeKBlOhTB",
        "outputId": "691024c0-aa04-4507-9211-d5a5dfff54ff"
      },
      "source": [
        "# Exploring SibSp feature / Survived\r\n",
        "\r\n",
        "Sib_Survi = sns.catplot(x=\"SibSp\",y=\"Survived\",data=titanic_df,\r\n",
        "                   kind=\"bar\", height = 6 , palette = \"Set1\")\r\n",
        "\r\n",
        "Sib_Survi.despine(left=True)\r\n",
        "Sib_Survi = Sib_Survi.set_ylabels(\"Survival probability\")\r\n",
        "# passengers have a lot of siblings/spouses ==> have less chance to survive. \r\n",
        "# less SibSP ==> more chance to survive."
      ],
      "execution_count": 435,
      "outputs": [
        {
          "output_type": "display_data",
          "data": {
            "image/png": "[encoded data removed]",
            "text/plain": [
              "<Figure size 432x432 with 1 Axes>"
            ]
          },
          "metadata": {
            "tags": [],
            "needs_background": "light"
          }
        }
      ]
    },
    {
      "cell_type": "code",
      "metadata": {
        "colab": {
          "base_uri": "https://localhost:8080/",
          "height": 455
        },
        "id": "psZ1jB2qP4mV",
        "outputId": "6a004a3c-d41a-4453-c4ba-c208c9e70cdc"
      },
      "source": [
        "# Parch / Survived\r\n",
        "parch_survi = sns.catplot(x=\"Parch\",y=\"Survived\",data=titanic_df, \r\n",
        "                         kind=\"bar\", height = 6 , palette = \"Set2\")\r\n",
        "\r\n",
        "parch_survi.despine(left=True)\r\n",
        "parch_survi = parch_survi.set_ylabels(\"survival probability\")\r\n",
        "# Small families have more chance to survive, more than single"
      ],
      "execution_count": 436,
      "outputs": [
        {
          "output_type": "display_data",
          "data": {
            "image/png": "[encoded data removed]",
            "text/plain": [
              "<Figure size 432x432 with 1 Axes>"
            ]
          },
          "metadata": {
            "tags": [],
            "needs_background": "light"
          }
        }
      ]
    },
    {
      "cell_type": "code",
      "metadata": {
        "colab": {
          "base_uri": "https://localhost:8080/",
          "height": 557
        },
        "id": "Z8D752aPQAz8",
        "outputId": "2393bebc-ad90-45fa-c319-ae4b4f81d1c1"
      },
      "source": [
        "# Embarked / fare / sex // survival prob\r\n",
        "grid = sns.FacetGrid(titanic_df, row='Embarked', col='Survived', height=2.2, aspect=1.6)\r\n",
        "grid.map(sns.barplot, 'Sex', 'Fare', alpha=.5)\r\n",
        "grid.add_legend()\r\n"
      ],
      "execution_count": 437,
      "outputs": [
        {
          "output_type": "stream",
          "text": [
            "/usr/local/lib/python3.7/dist-packages/seaborn/axisgrid.py:643: UserWarning: Using the barplot function without specifying `order` is likely to produce an incorrect plot.\n",
            "  warnings.warn(warning)\n"
          ],
          "name": "stderr"
        },
        {
          "output_type": "execute_result",
          "data": {
            "text/plain": [
              "<seaborn.axisgrid.FacetGrid at 0x7f4935eeff10>"
            ]
          },
          "metadata": {
            "tags": []
          },
          "execution_count": 437
        },
        {
          "output_type": "display_data",
          "data": {
            "image/png": "[encoded data removed]",
            "text/plain": [
              "<Figure size 514.88x475.2 with 6 Axes>"
            ]
          },
          "metadata": {
            "tags": [],
            "needs_background": "light"
          }
        }
      ]
    },
    {
      "cell_type": "markdown",
      "metadata": {
        "id": "pO762f2nQfOU"
      },
      "source": [
        "* Have a look at this function:"
      ]
    },
    {
      "cell_type": "code",
      "metadata": {
        "colab": {
          "base_uri": "https://localhost:8080/",
          "height": 584
        },
        "id": "6bPc2XyaQiRM",
        "outputId": "601b4a97-471c-42b8-a5f8-3aaf2129e15b"
      },
      "source": [
        "def plot_correlation_map( df ):\r\n",
        "    corr = df.corr()\r\n",
        "    s , ax = plt.subplots( figsize =( 12 , 10 ) )\r\n",
        "\r\n",
        "    cmap = sns.diverging_palette( 220 , 10 , as_cmap = True )\r\n",
        "\r\n",
        "    s = sns.heatmap(corr, cmap = cmap,square=True, \r\n",
        "                    cbar_kws={ 'shrink' : .9 }, \r\n",
        "                    ax=ax, \r\n",
        "                    annot = True, \r\n",
        "                    annot_kws = { 'fontsize' : 12 } )\r\n",
        "plot_correlation_map(titanic_df )"
      ],
      "execution_count": 438,
      "outputs": [
        {
          "output_type": "display_data",
          "data": {
            "image/png": "[encoded data removed]",
            "text/plain": [
              "<Figure size 864x720 with 2 Axes>"
            ]
          },
          "metadata": {
            "tags": [],
            "needs_background": "light"
          }
        }
      ]
    },
    {
      "cell_type": "markdown",
      "metadata": {
        "id": "S_b9XeAsQuXd"
      },
      "source": [
        "**** -write a paragraph describing analysis***"
      ]
    },
    {
      "cell_type": "code",
      "metadata": {
        "id": "ICQBzLljQy4t"
      },
      "source": [
        "''' \r\n",
        "- There are no very highly correlated columns:\r\n",
        "\r\n",
        "- Only Fare feature seems to have a significative correlation with survived = 0.26.\r\n",
        "- Fare is negatively correlated with Pclass at -0.34.\r\n",
        "- Fare is negatively correlated with Pclass at -0.55.\r\n",
        "\r\n",
        "'''"
      ],
      "execution_count": null,
      "outputs": []
    },
    {
      "cell_type": "markdown",
      "metadata": {
        "id": "U5aO96X7TpAp"
      },
      "source": [
        "*** * relation between Pclass and survived ***"
      ]
    },
    {
      "cell_type": "code",
      "metadata": {
        "colab": {
          "base_uri": "https://localhost:8080/",
          "height": 171
        },
        "id": "psnOwc5NTlxk",
        "outputId": "2336c374-fcbf-4ae0-c621-37364e90dce3"
      },
      "source": [
        "# Use the groupby function combined with the mean() \r\n",
        "# to view the relation between Pclass and survived\r\n",
        "\r\n",
        "titanic_df[[\"Pclass\",\"Survived\"]].groupby('Pclass').mean()"
      ],
      "execution_count": 440,
      "outputs": [
        {
          "output_type": "execute_result",
          "data": {
            "text/html": [
              "<div>\n",
              "<style scoped>\n",
              "    .dataframe tbody tr th:only-of-type {\n",
              "        vertical-align: middle;\n",
              "    }\n",
              "\n",
              "    .dataframe tbody tr th {\n",
              "        vertical-align: top;\n",
              "    }\n",
              "\n",
              "    .dataframe thead th {\n",
              "        text-align: right;\n",
              "    }\n",
              "</style>\n",
              "<table border=\"1\" class=\"dataframe\">\n",
              "  <thead>\n",
              "    <tr style=\"text-align: right;\">\n",
              "      <th></th>\n",
              "      <th>Survived</th>\n",
              "    </tr>\n",
              "    <tr>\n",
              "      <th>Pclass</th>\n",
              "      <th></th>\n",
              "    </tr>\n",
              "  </thead>\n",
              "  <tbody>\n",
              "    <tr>\n",
              "      <th>1</th>\n",
              "      <td>0.629630</td>\n",
              "    </tr>\n",
              "    <tr>\n",
              "      <th>2</th>\n",
              "      <td>0.472826</td>\n",
              "    </tr>\n",
              "    <tr>\n",
              "      <th>3</th>\n",
              "      <td>0.242363</td>\n",
              "    </tr>\n",
              "  </tbody>\n",
              "</table>\n",
              "</div>"
            ],
            "text/plain": [
              "        Survived\n",
              "Pclass          \n",
              "1       0.629630\n",
              "2       0.472826\n",
              "3       0.242363"
            ]
          },
          "metadata": {
            "tags": []
          },
          "execution_count": 440
        }
      ]
    },
    {
      "cell_type": "code",
      "metadata": {
        "colab": {
          "base_uri": "https://localhost:8080/",
          "height": 202
        },
        "id": "7OLjcxmfTuJt",
        "outputId": "1d2ab071-66dd-4025-c08c-5df32555f372"
      },
      "source": [
        "# extract the title from the column Names\r\n",
        "titanic_df['Title'] = titanic_df['Name'].apply(lambda full_name: full_name.split(', ')[1].split('.')[0])\r\n",
        "titanic_df.tail(30)\r\n",
        "titanic_df.head()"
      ],
      "execution_count": 441,
      "outputs": [
        {
          "output_type": "execute_result",
          "data": {
            "text/html": [
              "<div>\n",
              "<style scoped>\n",
              "    .dataframe tbody tr th:only-of-type {\n",
              "        vertical-align: middle;\n",
              "    }\n",
              "\n",
              "    .dataframe tbody tr th {\n",
              "        vertical-align: top;\n",
              "    }\n",
              "\n",
              "    .dataframe thead th {\n",
              "        text-align: right;\n",
              "    }\n",
              "</style>\n",
              "<table border=\"1\" class=\"dataframe\">\n",
              "  <thead>\n",
              "    <tr style=\"text-align: right;\">\n",
              "      <th></th>\n",
              "      <th>Survived</th>\n",
              "      <th>Pclass</th>\n",
              "      <th>Name</th>\n",
              "      <th>Sex</th>\n",
              "      <th>Age</th>\n",
              "      <th>SibSp</th>\n",
              "      <th>Parch</th>\n",
              "      <th>Fare</th>\n",
              "      <th>Embarked</th>\n",
              "      <th>Title</th>\n",
              "    </tr>\n",
              "  </thead>\n",
              "  <tbody>\n",
              "    <tr>\n",
              "      <th>0</th>\n",
              "      <td>0</td>\n",
              "      <td>2</td>\n",
              "      <td>Collander, Mr. Erik Gustaf</td>\n",
              "      <td>male</td>\n",
              "      <td>28.0</td>\n",
              "      <td>0</td>\n",
              "      <td>0</td>\n",
              "      <td>13.0000</td>\n",
              "      <td>S</td>\n",
              "      <td>Mr</td>\n",
              "    </tr>\n",
              "    <tr>\n",
              "      <th>1</th>\n",
              "      <td>0</td>\n",
              "      <td>3</td>\n",
              "      <td>Moen, Mr. Sigurd Hansen</td>\n",
              "      <td>male</td>\n",
              "      <td>25.0</td>\n",
              "      <td>0</td>\n",
              "      <td>0</td>\n",
              "      <td>7.6500</td>\n",
              "      <td>S</td>\n",
              "      <td>Mr</td>\n",
              "    </tr>\n",
              "    <tr>\n",
              "      <th>2</th>\n",
              "      <td>0</td>\n",
              "      <td>3</td>\n",
              "      <td>Jensen, Mr. Hans Peder</td>\n",
              "      <td>male</td>\n",
              "      <td>20.0</td>\n",
              "      <td>0</td>\n",
              "      <td>0</td>\n",
              "      <td>7.8542</td>\n",
              "      <td>S</td>\n",
              "      <td>Mr</td>\n",
              "    </tr>\n",
              "    <tr>\n",
              "      <th>3</th>\n",
              "      <td>0</td>\n",
              "      <td>3</td>\n",
              "      <td>Palsson, Mrs. Nils (Alma Cornelia Berglund)</td>\n",
              "      <td>female</td>\n",
              "      <td>29.0</td>\n",
              "      <td>0</td>\n",
              "      <td>4</td>\n",
              "      <td>21.0750</td>\n",
              "      <td>S</td>\n",
              "      <td>Mrs</td>\n",
              "    </tr>\n",
              "    <tr>\n",
              "      <th>4</th>\n",
              "      <td>0</td>\n",
              "      <td>1</td>\n",
              "      <td>Davidson, Mr. Thornton</td>\n",
              "      <td>male</td>\n",
              "      <td>31.0</td>\n",
              "      <td>1</td>\n",
              "      <td>0</td>\n",
              "      <td>52.0000</td>\n",
              "      <td>S</td>\n",
              "      <td>Mr</td>\n",
              "    </tr>\n",
              "  </tbody>\n",
              "</table>\n",
              "</div>"
            ],
            "text/plain": [
              "   Survived  Pclass  ... Embarked Title\n",
              "0         0       2  ...        S    Mr\n",
              "1         0       3  ...        S    Mr\n",
              "2         0       3  ...        S    Mr\n",
              "3         0       3  ...        S   Mrs\n",
              "4         0       1  ...        S    Mr\n",
              "\n",
              "[5 rows x 10 columns]"
            ]
          },
          "metadata": {
            "tags": []
          },
          "execution_count": 441
        }
      ]
    },
    {
      "cell_type": "code",
      "metadata": {
        "colab": {
          "base_uri": "https://localhost:8080/",
          "height": 455
        },
        "id": "1yVpC7cFT1fg",
        "outputId": "69746a98-e975-4791-b673-bd838524a6ab"
      },
      "source": [
        "# Visualize TITLE & survived\r\n",
        "plt.figure(figsize=(20,7))\r\n",
        "sns.countplot(x='Title',data=titanic_df, hue='Survived', palette=\"RdBu\")\r\n",
        "plt.legend(['Passed','Survived'], loc='upper right', prop={'size':15})"
      ],
      "execution_count": 442,
      "outputs": [
        {
          "output_type": "execute_result",
          "data": {
            "text/plain": [
              "<matplotlib.legend.Legend at 0x7f4931f2f850>"
            ]
          },
          "metadata": {
            "tags": []
          },
          "execution_count": 442
        },
        {
          "output_type": "display_data",
          "data": {
            "image/png": "[encoded data removed]",
            "text/plain": [
              "<Figure size 1440x504 with 1 Axes>"
            ]
          },
          "metadata": {
            "tags": [],
            "needs_background": "light"
          }
        }
      ]
    },
    {
      "cell_type": "code",
      "metadata": {
        "colab": {
          "base_uri": "https://localhost:8080/",
          "height": 455
        },
        "id": "rVeOu6efT5hT",
        "outputId": "71f97501-8122-4c11-d63b-d2bf6d29af53"
      },
      "source": [
        "# Visualize the correlation between Title and other features(e.g Sex, Fare, Age...)\r\n",
        "plt.figure(figsize=(20,7))\r\n",
        "sns.countplot(x='Title',data=titanic_df, palette=\"dark\")\r\n",
        "plt.legend(['Passed','Survived'], loc='upper center', prop={'size':15})"
      ],
      "execution_count": 443,
      "outputs": [
        {
          "output_type": "execute_result",
          "data": {
            "text/plain": [
              "<matplotlib.legend.Legend at 0x7f4933e06d10>"
            ]
          },
          "metadata": {
            "tags": []
          },
          "execution_count": 443
        },
        {
          "output_type": "display_data",
          "data": {
            "image/png": "[encoded data removed]",
            "text/plain": [
              "<Figure size 1440x504 with 1 Axes>"
            ]
          },
          "metadata": {
            "tags": [],
            "needs_background": "light"
          }
        }
      ]
    },
    {
      "cell_type": "code",
      "metadata": {
        "colab": {
          "base_uri": "https://localhost:8080/",
          "height": 401
        },
        "id": "brIKLx1_UOLc",
        "outputId": "f9d0a1ee-95f2-44dc-cca5-b0b3b9291ed9"
      },
      "source": [
        "sns.catplot(x='Sex', y='Age', \r\n",
        "               hue='Title', \r\n",
        "               data=titanic_df,\r\n",
        "            palette=\"Set3\")"
      ],
      "execution_count": 444,
      "outputs": [
        {
          "output_type": "execute_result",
          "data": {
            "text/plain": [
              "<seaborn.axisgrid.FacetGrid at 0x7f4931245e90>"
            ]
          },
          "metadata": {
            "tags": []
          },
          "execution_count": 444
        },
        {
          "output_type": "display_data",
          "data": {
            "image/png": "[encoded data removed]",
            "text/plain": [
              "<Figure size 461.625x360 with 1 Axes>"
            ]
          },
          "metadata": {
            "tags": [],
            "needs_background": "light"
          }
        }
      ]
    },
    {
      "cell_type": "code",
      "metadata": {
        "colab": {
          "base_uri": "https://localhost:8080/",
          "height": 269
        },
        "id": "fbxV8AgQUioT",
        "outputId": "f9877a05-74f9-46c6-dfab-eb7c16225b00"
      },
      "source": [
        "# Correlation matrix between numerical values (SibSp Parch Age and Fare values) and Survived \r\n",
        "corr_numeric = sns.heatmap(titanic_df[[\"Survived\",\"SibSp\",\"Parch\",\"Age\",\"Fare\"]].corr(),\r\n",
        "                           annot=True, fmt = \".2f\", cmap = \"Set3\")"
      ],
      "execution_count": 445,
      "outputs": [
        {
          "output_type": "display_data",
          "data": {
            "image/png": "[encoded data removed]",
            "text/plain": [
              "<Figure size 432x288 with 2 Axes>"
            ]
          },
          "metadata": {
            "tags": [],
            "needs_background": "light"
          }
        }
      ]
    },
    {
      "cell_type": "code",
      "metadata": {
        "colab": {
          "base_uri": "https://localhost:8080/",
          "height": 401
        },
        "id": "aM5pp0ySVjKU",
        "outputId": "0e414b1b-7865-4b35-b98f-bfab43fc23dc"
      },
      "source": [
        "sns.catplot(x='Age', y='Title', \r\n",
        "               hue='Sex', \r\n",
        "               data=titanic_df,\r\n",
        "            palette=\"bone\")"
      ],
      "execution_count": 446,
      "outputs": [
        {
          "output_type": "execute_result",
          "data": {
            "text/plain": [
              "<seaborn.axisgrid.FacetGrid at 0x7f4931196610>"
            ]
          },
          "metadata": {
            "tags": []
          },
          "execution_count": 446
        },
        {
          "output_type": "display_data",
          "data": {
            "image/png": "[encoded data removed]",
            "text/plain": [
              "<Figure size 430.5x360 with 1 Axes>"
            ]
          },
          "metadata": {
            "tags": [],
            "needs_background": "light"
          }
        }
      ]
    },
    {
      "cell_type": "code",
      "metadata": {
        "colab": {
          "base_uri": "https://localhost:8080/",
          "height": 401
        },
        "id": "n_m7hG2lWJ09",
        "outputId": "40127975-131d-44a5-a15e-af4c87640928"
      },
      "source": [
        "sns.catplot(x=\"Sex\", y=\"Fare\", hue=\"Title\", kind=\"bar\", data=titanic_df)"
      ],
      "execution_count": 447,
      "outputs": [
        {
          "output_type": "execute_result",
          "data": {
            "text/plain": [
              "<seaborn.axisgrid.FacetGrid at 0x7f4931147190>"
            ]
          },
          "metadata": {
            "tags": []
          },
          "execution_count": 447
        },
        {
          "output_type": "display_data",
          "data": {
            "image/png": "[encoded data removed]",
            "text/plain": [
              "<Figure size 461.625x360 with 1 Axes>"
            ]
          },
          "metadata": {
            "tags": [],
            "needs_background": "light"
          }
        }
      ]
    },
    {
      "cell_type": "code",
      "metadata": {
        "id": "1JfFZ9lZWj-M"
      },
      "source": [
        "# replace the title\r\n",
        "titanic_df['Title'] = titanic_df['Title'].replace(['Capt', 'Col', 'Major', 'Dr','Rev'], 'Officer')\r\n",
        "titanic_df['Title'] = titanic_df['Title'].replace(['Jonkheer','Don','Sir','Lady','the Countess','Dona'], 'Royalty')\r\n",
        "titanic_df['Title'] = titanic_df['Title'].replace(['Ms','Mrs','Mr'], 'Mrs')\r\n",
        "titanic_df['Title'] = titanic_df['Title'].replace(['Mme', 'Mlle', 'Miss'], 'Miss')"
      ],
      "execution_count": 448,
      "outputs": []
    },
    {
      "cell_type": "code",
      "metadata": {
        "colab": {
          "base_uri": "https://localhost:8080/",
          "height": 323
        },
        "id": "CwHhzzoyWvbb",
        "outputId": "eee78a58-0544-4979-a686-cb34f5bec684"
      },
      "source": [
        "# plotting\r\n",
        "plt = titanic_df.Title.value_counts().sort_index().plot(kind='bar')\r\n",
        "plt.set_xlabel('Title')\r\n",
        "plt.set_ylabel('Passenger count')"
      ],
      "execution_count": 449,
      "outputs": [
        {
          "output_type": "execute_result",
          "data": {
            "text/plain": [
              "Text(0, 0.5, 'Passenger count')"
            ]
          },
          "metadata": {
            "tags": []
          },
          "execution_count": 449
        },
        {
          "output_type": "display_data",
          "data": {
            "image/png": "[encoded data removed]",
            "text/plain": [
              "<Figure size 432x288 with 1 Axes>"
            ]
          },
          "metadata": {
            "tags": [],
            "needs_background": "light"
          }
        }
      ]
    },
    {
      "cell_type": "code",
      "metadata": {
        "colab": {
          "base_uri": "https://localhost:8080/",
          "height": 335
        },
        "id": "S4ZU5Qa4Wy_r",
        "outputId": "e056e5b3-b505-4b2c-c786-0283ab42b30d"
      },
      "source": [
        "plt = titanic_df[['Title', 'Survived']].groupby('Title').mean().Survived.plot.pie(y='mass', figsize=(5, 5))\r\n",
        "plt.set_xlabel('Title')\r\n",
        "plt.set_ylabel('Survival Probability')"
      ],
      "execution_count": 450,
      "outputs": [
        {
          "output_type": "execute_result",
          "data": {
            "text/plain": [
              "Text(0, 0.5, 'Survival Probability')"
            ]
          },
          "metadata": {
            "tags": []
          },
          "execution_count": 450
        },
        {
          "output_type": "display_data",
          "data": {
            "image/png": "[encoded data removed]",
            "text/plain": [
              "<Figure size 360x360 with 1 Axes>"
            ]
          },
          "metadata": {
            "tags": []
          }
        }
      ]
    },
    {
      "cell_type": "code",
      "metadata": {
        "colab": {
          "base_uri": "https://localhost:8080/",
          "height": 202
        },
        "id": "xN-kNN9tW6Et",
        "outputId": "5b7169ac-daeb-4dcc-db92-c7f38c828e3c"
      },
      "source": [
        "titanic_df.head()"
      ],
      "execution_count": 451,
      "outputs": [
        {
          "output_type": "execute_result",
          "data": {
            "text/html": [
              "<div>\n",
              "<style scoped>\n",
              "    .dataframe tbody tr th:only-of-type {\n",
              "        vertical-align: middle;\n",
              "    }\n",
              "\n",
              "    .dataframe tbody tr th {\n",
              "        vertical-align: top;\n",
              "    }\n",
              "\n",
              "    .dataframe thead th {\n",
              "        text-align: right;\n",
              "    }\n",
              "</style>\n",
              "<table border=\"1\" class=\"dataframe\">\n",
              "  <thead>\n",
              "    <tr style=\"text-align: right;\">\n",
              "      <th></th>\n",
              "      <th>Survived</th>\n",
              "      <th>Pclass</th>\n",
              "      <th>Name</th>\n",
              "      <th>Sex</th>\n",
              "      <th>Age</th>\n",
              "      <th>SibSp</th>\n",
              "      <th>Parch</th>\n",
              "      <th>Fare</th>\n",
              "      <th>Embarked</th>\n",
              "      <th>Title</th>\n",
              "    </tr>\n",
              "  </thead>\n",
              "  <tbody>\n",
              "    <tr>\n",
              "      <th>0</th>\n",
              "      <td>0</td>\n",
              "      <td>2</td>\n",
              "      <td>Collander, Mr. Erik Gustaf</td>\n",
              "      <td>male</td>\n",
              "      <td>28.0</td>\n",
              "      <td>0</td>\n",
              "      <td>0</td>\n",
              "      <td>13.0000</td>\n",
              "      <td>S</td>\n",
              "      <td>Mrs</td>\n",
              "    </tr>\n",
              "    <tr>\n",
              "      <th>1</th>\n",
              "      <td>0</td>\n",
              "      <td>3</td>\n",
              "      <td>Moen, Mr. Sigurd Hansen</td>\n",
              "      <td>male</td>\n",
              "      <td>25.0</td>\n",
              "      <td>0</td>\n",
              "      <td>0</td>\n",
              "      <td>7.6500</td>\n",
              "      <td>S</td>\n",
              "      <td>Mrs</td>\n",
              "    </tr>\n",
              "    <tr>\n",
              "      <th>2</th>\n",
              "      <td>0</td>\n",
              "      <td>3</td>\n",
              "      <td>Jensen, Mr. Hans Peder</td>\n",
              "      <td>male</td>\n",
              "      <td>20.0</td>\n",
              "      <td>0</td>\n",
              "      <td>0</td>\n",
              "      <td>7.8542</td>\n",
              "      <td>S</td>\n",
              "      <td>Mrs</td>\n",
              "    </tr>\n",
              "    <tr>\n",
              "      <th>3</th>\n",
              "      <td>0</td>\n",
              "      <td>3</td>\n",
              "      <td>Palsson, Mrs. Nils (Alma Cornelia Berglund)</td>\n",
              "      <td>female</td>\n",
              "      <td>29.0</td>\n",
              "      <td>0</td>\n",
              "      <td>4</td>\n",
              "      <td>21.0750</td>\n",
              "      <td>S</td>\n",
              "      <td>Mrs</td>\n",
              "    </tr>\n",
              "    <tr>\n",
              "      <th>4</th>\n",
              "      <td>0</td>\n",
              "      <td>1</td>\n",
              "      <td>Davidson, Mr. Thornton</td>\n",
              "      <td>male</td>\n",
              "      <td>31.0</td>\n",
              "      <td>1</td>\n",
              "      <td>0</td>\n",
              "      <td>52.0000</td>\n",
              "      <td>S</td>\n",
              "      <td>Mrs</td>\n",
              "    </tr>\n",
              "  </tbody>\n",
              "</table>\n",
              "</div>"
            ],
            "text/plain": [
              "   Survived  Pclass  ... Embarked Title\n",
              "0         0       2  ...        S   Mrs\n",
              "1         0       3  ...        S   Mrs\n",
              "2         0       3  ...        S   Mrs\n",
              "3         0       3  ...        S   Mrs\n",
              "4         0       1  ...        S   Mrs\n",
              "\n",
              "[5 rows x 10 columns]"
            ]
          },
          "metadata": {
            "tags": []
          },
          "execution_count": 451
        }
      ]
    },
    {
      "cell_type": "code",
      "metadata": {
        "id": "2n0txOlaXAPG"
      },
      "source": [
        "# drop Name feature (useless)\r\n",
        "titanic_df.drop('Name',axis=1, inplace=True)"
      ],
      "execution_count": 452,
      "outputs": []
    },
    {
      "cell_type": "code",
      "metadata": {
        "colab": {
          "base_uri": "https://localhost:8080/",
          "height": 202
        },
        "id": "o2_U376iXCve",
        "outputId": "d524019c-98c7-4919-8409-b2c0885460b8"
      },
      "source": [
        "titanic_df.head()"
      ],
      "execution_count": 453,
      "outputs": [
        {
          "output_type": "execute_result",
          "data": {
            "text/html": [
              "<div>\n",
              "<style scoped>\n",
              "    .dataframe tbody tr th:only-of-type {\n",
              "        vertical-align: middle;\n",
              "    }\n",
              "\n",
              "    .dataframe tbody tr th {\n",
              "        vertical-align: top;\n",
              "    }\n",
              "\n",
              "    .dataframe thead th {\n",
              "        text-align: right;\n",
              "    }\n",
              "</style>\n",
              "<table border=\"1\" class=\"dataframe\">\n",
              "  <thead>\n",
              "    <tr style=\"text-align: right;\">\n",
              "      <th></th>\n",
              "      <th>Survived</th>\n",
              "      <th>Pclass</th>\n",
              "      <th>Sex</th>\n",
              "      <th>Age</th>\n",
              "      <th>SibSp</th>\n",
              "      <th>Parch</th>\n",
              "      <th>Fare</th>\n",
              "      <th>Embarked</th>\n",
              "      <th>Title</th>\n",
              "    </tr>\n",
              "  </thead>\n",
              "  <tbody>\n",
              "    <tr>\n",
              "      <th>0</th>\n",
              "      <td>0</td>\n",
              "      <td>2</td>\n",
              "      <td>male</td>\n",
              "      <td>28.0</td>\n",
              "      <td>0</td>\n",
              "      <td>0</td>\n",
              "      <td>13.0000</td>\n",
              "      <td>S</td>\n",
              "      <td>Mrs</td>\n",
              "    </tr>\n",
              "    <tr>\n",
              "      <th>1</th>\n",
              "      <td>0</td>\n",
              "      <td>3</td>\n",
              "      <td>male</td>\n",
              "      <td>25.0</td>\n",
              "      <td>0</td>\n",
              "      <td>0</td>\n",
              "      <td>7.6500</td>\n",
              "      <td>S</td>\n",
              "      <td>Mrs</td>\n",
              "    </tr>\n",
              "    <tr>\n",
              "      <th>2</th>\n",
              "      <td>0</td>\n",
              "      <td>3</td>\n",
              "      <td>male</td>\n",
              "      <td>20.0</td>\n",
              "      <td>0</td>\n",
              "      <td>0</td>\n",
              "      <td>7.8542</td>\n",
              "      <td>S</td>\n",
              "      <td>Mrs</td>\n",
              "    </tr>\n",
              "    <tr>\n",
              "      <th>3</th>\n",
              "      <td>0</td>\n",
              "      <td>3</td>\n",
              "      <td>female</td>\n",
              "      <td>29.0</td>\n",
              "      <td>0</td>\n",
              "      <td>4</td>\n",
              "      <td>21.0750</td>\n",
              "      <td>S</td>\n",
              "      <td>Mrs</td>\n",
              "    </tr>\n",
              "    <tr>\n",
              "      <th>4</th>\n",
              "      <td>0</td>\n",
              "      <td>1</td>\n",
              "      <td>male</td>\n",
              "      <td>31.0</td>\n",
              "      <td>1</td>\n",
              "      <td>0</td>\n",
              "      <td>52.0000</td>\n",
              "      <td>S</td>\n",
              "      <td>Mrs</td>\n",
              "    </tr>\n",
              "  </tbody>\n",
              "</table>\n",
              "</div>"
            ],
            "text/plain": [
              "   Survived  Pclass     Sex   Age  SibSp  Parch     Fare Embarked Title\n",
              "0         0       2    male  28.0      0      0  13.0000        S   Mrs\n",
              "1         0       3    male  25.0      0      0   7.6500        S   Mrs\n",
              "2         0       3    male  20.0      0      0   7.8542        S   Mrs\n",
              "3         0       3  female  29.0      0      4  21.0750        S   Mrs\n",
              "4         0       1    male  31.0      1      0  52.0000        S   Mrs"
            ]
          },
          "metadata": {
            "tags": []
          },
          "execution_count": 453
        }
      ]
    },
    {
      "cell_type": "markdown",
      "metadata": {
        "id": "i7PBmCe8XIpo"
      },
      "source": [
        "\r\n",
        "\r\n",
        "*   Create new feature FamilySize\r\n",
        "\r\n"
      ]
    },
    {
      "cell_type": "code",
      "metadata": {
        "colab": {
          "base_uri": "https://localhost:8080/",
          "height": 202
        },
        "id": "CRXRXIBdXLFX",
        "outputId": "20efd4c1-6b38-4164-b0bc-76ccdf3cbf98"
      },
      "source": [
        "# use the Parch and the SibSp columns\r\n",
        "titanic_df['FamilySize'] = titanic_df['SibSp'] + titanic_df['Parch'] + 1\r\n",
        "titanic_df.head()"
      ],
      "execution_count": 454,
      "outputs": [
        {
          "output_type": "execute_result",
          "data": {
            "text/html": [
              "<div>\n",
              "<style scoped>\n",
              "    .dataframe tbody tr th:only-of-type {\n",
              "        vertical-align: middle;\n",
              "    }\n",
              "\n",
              "    .dataframe tbody tr th {\n",
              "        vertical-align: top;\n",
              "    }\n",
              "\n",
              "    .dataframe thead th {\n",
              "        text-align: right;\n",
              "    }\n",
              "</style>\n",
              "<table border=\"1\" class=\"dataframe\">\n",
              "  <thead>\n",
              "    <tr style=\"text-align: right;\">\n",
              "      <th></th>\n",
              "      <th>Survived</th>\n",
              "      <th>Pclass</th>\n",
              "      <th>Sex</th>\n",
              "      <th>Age</th>\n",
              "      <th>SibSp</th>\n",
              "      <th>Parch</th>\n",
              "      <th>Fare</th>\n",
              "      <th>Embarked</th>\n",
              "      <th>Title</th>\n",
              "      <th>FamilySize</th>\n",
              "    </tr>\n",
              "  </thead>\n",
              "  <tbody>\n",
              "    <tr>\n",
              "      <th>0</th>\n",
              "      <td>0</td>\n",
              "      <td>2</td>\n",
              "      <td>male</td>\n",
              "      <td>28.0</td>\n",
              "      <td>0</td>\n",
              "      <td>0</td>\n",
              "      <td>13.0000</td>\n",
              "      <td>S</td>\n",
              "      <td>Mrs</td>\n",
              "      <td>1</td>\n",
              "    </tr>\n",
              "    <tr>\n",
              "      <th>1</th>\n",
              "      <td>0</td>\n",
              "      <td>3</td>\n",
              "      <td>male</td>\n",
              "      <td>25.0</td>\n",
              "      <td>0</td>\n",
              "      <td>0</td>\n",
              "      <td>7.6500</td>\n",
              "      <td>S</td>\n",
              "      <td>Mrs</td>\n",
              "      <td>1</td>\n",
              "    </tr>\n",
              "    <tr>\n",
              "      <th>2</th>\n",
              "      <td>0</td>\n",
              "      <td>3</td>\n",
              "      <td>male</td>\n",
              "      <td>20.0</td>\n",
              "      <td>0</td>\n",
              "      <td>0</td>\n",
              "      <td>7.8542</td>\n",
              "      <td>S</td>\n",
              "      <td>Mrs</td>\n",
              "      <td>1</td>\n",
              "    </tr>\n",
              "    <tr>\n",
              "      <th>3</th>\n",
              "      <td>0</td>\n",
              "      <td>3</td>\n",
              "      <td>female</td>\n",
              "      <td>29.0</td>\n",
              "      <td>0</td>\n",
              "      <td>4</td>\n",
              "      <td>21.0750</td>\n",
              "      <td>S</td>\n",
              "      <td>Mrs</td>\n",
              "      <td>5</td>\n",
              "    </tr>\n",
              "    <tr>\n",
              "      <th>4</th>\n",
              "      <td>0</td>\n",
              "      <td>1</td>\n",
              "      <td>male</td>\n",
              "      <td>31.0</td>\n",
              "      <td>1</td>\n",
              "      <td>0</td>\n",
              "      <td>52.0000</td>\n",
              "      <td>S</td>\n",
              "      <td>Mrs</td>\n",
              "      <td>2</td>\n",
              "    </tr>\n",
              "  </tbody>\n",
              "</table>\n",
              "</div>"
            ],
            "text/plain": [
              "   Survived  Pclass     Sex   Age  ...     Fare  Embarked  Title FamilySize\n",
              "0         0       2    male  28.0  ...  13.0000         S    Mrs          1\n",
              "1         0       3    male  25.0  ...   7.6500         S    Mrs          1\n",
              "2         0       3    male  20.0  ...   7.8542         S    Mrs          1\n",
              "3         0       3  female  29.0  ...  21.0750         S    Mrs          5\n",
              "4         0       1    male  31.0  ...  52.0000         S    Mrs          2\n",
              "\n",
              "[5 rows x 10 columns]"
            ]
          },
          "metadata": {
            "tags": []
          },
          "execution_count": 454
        }
      ]
    },
    {
      "cell_type": "code",
      "metadata": {
        "id": "6KlS0eYpXS_5"
      },
      "source": [
        "# drop siblinks/spouse (SibSp)\r\n",
        "titanic_df.drop('SibSp',axis=1, inplace=True)"
      ],
      "execution_count": 455,
      "outputs": []
    },
    {
      "cell_type": "code",
      "metadata": {
        "id": "gU2hSw8_XV1M"
      },
      "source": [
        "# drop parent/child (Parch)\r\n",
        "titanic_df.drop('Parch',axis=1, inplace=True)"
      ],
      "execution_count": 456,
      "outputs": []
    },
    {
      "cell_type": "code",
      "metadata": {
        "colab": {
          "base_uri": "https://localhost:8080/",
          "height": 202
        },
        "id": "OOza9WhuXYaQ",
        "outputId": "4d669109-e9d9-4d5a-8e6e-f34e9711737b"
      },
      "source": [
        "titanic_df.head()"
      ],
      "execution_count": 457,
      "outputs": [
        {
          "output_type": "execute_result",
          "data": {
            "text/html": [
              "<div>\n",
              "<style scoped>\n",
              "    .dataframe tbody tr th:only-of-type {\n",
              "        vertical-align: middle;\n",
              "    }\n",
              "\n",
              "    .dataframe tbody tr th {\n",
              "        vertical-align: top;\n",
              "    }\n",
              "\n",
              "    .dataframe thead th {\n",
              "        text-align: right;\n",
              "    }\n",
              "</style>\n",
              "<table border=\"1\" class=\"dataframe\">\n",
              "  <thead>\n",
              "    <tr style=\"text-align: right;\">\n",
              "      <th></th>\n",
              "      <th>Survived</th>\n",
              "      <th>Pclass</th>\n",
              "      <th>Sex</th>\n",
              "      <th>Age</th>\n",
              "      <th>Fare</th>\n",
              "      <th>Embarked</th>\n",
              "      <th>Title</th>\n",
              "      <th>FamilySize</th>\n",
              "    </tr>\n",
              "  </thead>\n",
              "  <tbody>\n",
              "    <tr>\n",
              "      <th>0</th>\n",
              "      <td>0</td>\n",
              "      <td>2</td>\n",
              "      <td>male</td>\n",
              "      <td>28.0</td>\n",
              "      <td>13.0000</td>\n",
              "      <td>S</td>\n",
              "      <td>Mrs</td>\n",
              "      <td>1</td>\n",
              "    </tr>\n",
              "    <tr>\n",
              "      <th>1</th>\n",
              "      <td>0</td>\n",
              "      <td>3</td>\n",
              "      <td>male</td>\n",
              "      <td>25.0</td>\n",
              "      <td>7.6500</td>\n",
              "      <td>S</td>\n",
              "      <td>Mrs</td>\n",
              "      <td>1</td>\n",
              "    </tr>\n",
              "    <tr>\n",
              "      <th>2</th>\n",
              "      <td>0</td>\n",
              "      <td>3</td>\n",
              "      <td>male</td>\n",
              "      <td>20.0</td>\n",
              "      <td>7.8542</td>\n",
              "      <td>S</td>\n",
              "      <td>Mrs</td>\n",
              "      <td>1</td>\n",
              "    </tr>\n",
              "    <tr>\n",
              "      <th>3</th>\n",
              "      <td>0</td>\n",
              "      <td>3</td>\n",
              "      <td>female</td>\n",
              "      <td>29.0</td>\n",
              "      <td>21.0750</td>\n",
              "      <td>S</td>\n",
              "      <td>Mrs</td>\n",
              "      <td>5</td>\n",
              "    </tr>\n",
              "    <tr>\n",
              "      <th>4</th>\n",
              "      <td>0</td>\n",
              "      <td>1</td>\n",
              "      <td>male</td>\n",
              "      <td>31.0</td>\n",
              "      <td>52.0000</td>\n",
              "      <td>S</td>\n",
              "      <td>Mrs</td>\n",
              "      <td>2</td>\n",
              "    </tr>\n",
              "  </tbody>\n",
              "</table>\n",
              "</div>"
            ],
            "text/plain": [
              "   Survived  Pclass     Sex   Age     Fare Embarked Title  FamilySize\n",
              "0         0       2    male  28.0  13.0000        S   Mrs           1\n",
              "1         0       3    male  25.0   7.6500        S   Mrs           1\n",
              "2         0       3    male  20.0   7.8542        S   Mrs           1\n",
              "3         0       3  female  29.0  21.0750        S   Mrs           5\n",
              "4         0       1    male  31.0  52.0000        S   Mrs           2"
            ]
          },
          "metadata": {
            "tags": []
          },
          "execution_count": 457
        }
      ]
    },
    {
      "cell_type": "code",
      "metadata": {
        "id": "tKYijkWTXbw8"
      },
      "source": [
        "# Use what you have learned so far to conclude if this feature is useful or not.\r\n",
        "''' \r\n",
        "it is not useful, because :\r\n",
        "    - there is categorical data\r\n",
        "    - whitch means = conveting features ==> \"Sex\", \"Embarked\",& \"Title\" \r\n",
        "        to numerical values\r\n",
        "'''"
      ],
      "execution_count": null,
      "outputs": []
    }
  ]
}